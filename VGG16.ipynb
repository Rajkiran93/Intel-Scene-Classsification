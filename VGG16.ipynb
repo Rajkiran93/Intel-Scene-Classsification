{
  "nbformat": 4,
  "nbformat_minor": 0,
  "metadata": {
    "colab": {
      "name": "VGG16.ipynb",
      "version": "0.3.2",
      "provenance": [],
      "collapsed_sections": []
    },
    "kernelspec": {
      "name": "python3",
      "display_name": "Python 3"
    },
    "accelerator": "GPU"
  },
  "cells": [
    {
      "metadata": {
        "id": "_9fO20zPcViB",
        "colab_type": "code",
        "outputId": "e1891185-6bd5-4c9b-e834-1b729234321d",
        "colab": {
          "base_uri": "https://localhost:8080/",
          "height": 411
        }
      },
      "cell_type": "code",
      "source": [
        "!pip install PyDrive\n",
        "\n",
        "from pydrive.auth import GoogleAuth\n",
        "from pydrive.drive import GoogleDrive\n",
        "from google.colab import auth\n",
        "from oauth2client.client import GoogleCredentials\n",
        "\n",
        "auth.authenticate_user()\n",
        "gauth = GoogleAuth()\n",
        "gauth.credentials = GoogleCredentials.get_application_default()\n",
        "drive = GoogleDrive(gauth)\n",
        "\n",
        "\n",
        "download = drive.CreateFile({'id': '1a7y7zC6XIZDjlmH7u5VyYZIffsvqKL3K'})  #paste id here\n",
        "download.GetContentFile('pickleColor.tar')\n",
        "!tar -xf pickleColor.tar\n",
        "\n",
        "\n"
      ],
      "execution_count": 1,
      "outputs": [
        {
          "output_type": "stream",
          "text": [
            "Collecting PyDrive\n",
            "\u001b[?25l  Downloading https://files.pythonhosted.org/packages/52/e0/0e64788e5dd58ce2d6934549676243dc69d982f198524be9b99e9c2a4fd5/PyDrive-1.3.1.tar.gz (987kB)\n",
            "\u001b[K    100% |████████████████████████████████| 993kB 12.1MB/s \n",
            "\u001b[?25hRequirement already satisfied: google-api-python-client>=1.2 in /usr/local/lib/python3.6/dist-packages (from PyDrive) (1.6.7)\n",
            "Requirement already satisfied: oauth2client>=4.0.0 in /usr/local/lib/python3.6/dist-packages (from PyDrive) (4.1.3)\n",
            "Requirement already satisfied: PyYAML>=3.0 in /usr/local/lib/python3.6/dist-packages (from PyDrive) (3.13)\n",
            "Requirement already satisfied: six<2dev,>=1.6.1 in /usr/local/lib/python3.6/dist-packages (from google-api-python-client>=1.2->PyDrive) (1.11.0)\n",
            "Requirement already satisfied: httplib2<1dev,>=0.9.2 in /usr/local/lib/python3.6/dist-packages (from google-api-python-client>=1.2->PyDrive) (0.11.3)\n",
            "Requirement already satisfied: uritemplate<4dev,>=3.0.0 in /usr/local/lib/python3.6/dist-packages (from google-api-python-client>=1.2->PyDrive) (3.0.0)\n",
            "Requirement already satisfied: pyasn1>=0.1.7 in /usr/local/lib/python3.6/dist-packages (from oauth2client>=4.0.0->PyDrive) (0.4.5)\n",
            "Requirement already satisfied: pyasn1-modules>=0.0.5 in /usr/local/lib/python3.6/dist-packages (from oauth2client>=4.0.0->PyDrive) (0.2.4)\n",
            "Requirement already satisfied: rsa>=3.1.4 in /usr/local/lib/python3.6/dist-packages (from oauth2client>=4.0.0->PyDrive) (4.0)\n",
            "Building wheels for collected packages: PyDrive\n",
            "  Building wheel for PyDrive (setup.py) ... \u001b[?25ldone\n",
            "\u001b[?25h  Stored in directory: /root/.cache/pip/wheels/fa/d2/9a/d3b6b506c2da98289e5d417215ce34b696db856643bad779f4\n",
            "Successfully built PyDrive\n",
            "Installing collected packages: PyDrive\n",
            "Successfully installed PyDrive-1.3.1\n",
            "Archive:  ColorsTesting.zip\n",
            "   creating: ColorsTesting/\n",
            "  inflating: ColorsTesting/Y.pickle  \n",
            "  inflating: ColorsTesting/X.pickle  \n"
          ],
          "name": "stdout"
        }
      ]
    },
    {
      "metadata": {
        "id": "8VyYMUYgcfhl",
        "colab_type": "code",
        "outputId": "fe42defd-7a71-4b7d-ce78-1f987635d6b6",
        "colab": {
          "base_uri": "https://localhost:8080/",
          "height": 85
        }
      },
      "cell_type": "code",
      "source": [
        "\n",
        "import numpy as np\n",
        "import tensorflow as tf\n",
        "import random as rn\n",
        "import os\n",
        "\n",
        "os.environ['PYTHONHASHSEED'] = '0'\n",
        "np.random.seed(42)  # 7\n",
        "rn.seed(12345)\n",
        "\n",
        "session_conf = tf.ConfigProto(intra_op_parallelism_threads=1, inter_op_parallelism_threads=1)\n",
        "from keras import backend as K\n",
        "tf.set_random_seed(1234)\n",
        "\n",
        "sess = tf.Session(graph=tf.get_default_graph(), config=session_conf)\n",
        "K.set_session(sess)\n",
        "\n",
        "import time\n",
        "import pickle\n",
        "from sklearn.model_selection import train_test_split\n",
        "from sklearn.preprocessing import OneHotEncoder\n",
        "import keras\n",
        "from keras.models import load_model\n",
        "from keras.utils import CustomObjectScope\n",
        "from keras.initializers import glorot_uniform\n",
        "from keras.utils.np_utils import to_categorical\n",
        "import seaborn as sns\n",
        "from sklearn.metrics import confusion_matrix, recall_score\n",
        "from keras.callbacks import ModelCheckpoint\n",
        "from keras_preprocessing.image import ImageDataGenerator\n",
        "\n",
        "\n",
        "import cv2\n",
        "import matplotlib.pyplot as plt\n",
        "%matplotlib inline\n",
        "\n",
        "\n",
        "X = pickle.load(open(\"pickle/X.pickle\", \"rb\"))\n",
        "y = pickle.load(open(\"pickle/Y.pickle\", \"rb\"))\n",
        "\n",
        "\n",
        "y = to_categorical(y)\n",
        "\n",
        "X = np.array(X)\n",
        "X = X.reshape(17034, 150, 150, 3)\n",
        "\n",
        "XTEST = pickle.load(open(\"ColorsTesting/X.pickle\", \"rb\")) #images\n",
        "YTEST = pickle.load(open(\"ColorsTesting/Y.pickle\",\"rb\"))  #image names\n",
        "XTEST = np.array(XTEST)\n",
        "YTEST = np.array(YTEST)\n",
        "XTEST = XTEST.reshape(7301, 150, 150, 3)\n",
        "\n",
        "print(X.shape)\n",
        "print(XTEST.shape)\n",
        "print(keras.__version__)\n",
        "\n",
        "X_train, X_test, y_train, y_test = train_test_split(X, y, test_size=0.10, random_state=2018)"
      ],
      "execution_count": 1,
      "outputs": [
        {
          "output_type": "stream",
          "text": [
            "Using TensorFlow backend.\n"
          ],
          "name": "stderr"
        },
        {
          "output_type": "stream",
          "text": [
            "(17034, 150, 150, 3)\n",
            "(7301, 150, 150, 3)\n",
            "2.2.4\n"
          ],
          "name": "stdout"
        }
      ]
    },
    {
      "metadata": {
        "id": "fW_KJPO2IHYH",
        "colab_type": "code",
        "colab": {
          "base_uri": "https://localhost:8080/",
          "height": 88
        },
        "outputId": "da52ee28-b796-4976-8842-0a30c6dc58c5"
      },
      "cell_type": "code",
      "source": [
        "pip install h5py"
      ],
      "execution_count": 4,
      "outputs": [
        {
          "output_type": "stream",
          "text": [
            "Requirement already satisfied: h5py in /usr/local/lib/python3.6/dist-packages (2.8.0)\n",
            "Requirement already satisfied: numpy>=1.7 in /usr/local/lib/python3.6/dist-packages (from h5py) (1.14.6)\n",
            "Requirement already satisfied: six in /usr/local/lib/python3.6/dist-packages (from h5py) (1.11.0)\n"
          ],
          "name": "stdout"
        }
      ]
    },
    {
      "metadata": {
        "id": "NTXFRF7vcf50",
        "colab_type": "code",
        "colab": {}
      },
      "cell_type": "code",
      "source": [
        "from keras import applications\n",
        "from keras.preprocessing.image import ImageDataGenerator\n",
        "from keras import optimizers\n",
        "from keras.models import Sequential, Model \n",
        "from keras.layers import Dropout, Flatten, Dense, GlobalAveragePooling2D\n",
        "from keras import backend as k \n",
        "from keras.callbacks import ModelCheckpoint, LearningRateScheduler, TensorBoard, EarlyStopping\n",
        "\n",
        "# img_width, img_height = 150, 150\n",
        "# # train_data_dir = \"data/train\"\n",
        "# # validation_data_dir = \"data/val\"\n",
        "# nb_train_samples = 4125\n",
        "# nb_validation_samples = 466 \n",
        "# batch_size = 16\n",
        "# epochs = 3\n",
        "\n",
        "model = applications.VGG16(weights = \"imagenet\", include_top=False, input_shape = (150, 150, 3))\n",
        "\n",
        "# Freeze the layers which you don't want to train. Here I am freezing the first 5 layers.\n",
        "for layer in model.layers[:5]:\n",
        "    layer.trainable = False\n",
        "\n",
        "#Adding custom Layers \n",
        "x = model.output\n",
        "x = Flatten()(x)\n",
        "x = Dense(1024, activation=\"relu\")(x)\n",
        "x = Dropout(0.30)(x)\n",
        "\n",
        "x = Dense(512, activation=\"relu\")(x)\n",
        "x = Dropout(0.25)(x)\n",
        "\n",
        "x = Dense(256, activation=\"relu\")(x)\n",
        "x = Dropout(0.30)(x)  #25\n",
        "\n",
        "x = Dense(128, activation=\"relu\")(x)\n",
        "x = Dropout(0.25)(x)\n",
        "\n",
        "predictions = Dense(6, activation=\"softmax\")(x)\n",
        "\n",
        "\n",
        "\n",
        "# Save the model according to the conditions  \n",
        "checkpoint = ModelCheckpoint(\"VGG16.h5\", monitor='val_acc', verbose=1, save_best_only=True, mode='max')\n",
        "early = EarlyStopping(monitor='val_acc', min_delta=1, patience=80, verbose=1, mode='max', baseline=0.93) #auto\n",
        "\n",
        "\n",
        "model = Model(input = model.input, output = predictions)\n",
        "model.compile(loss = \"categorical_crossentropy\", optimizer = optimizers.SGD(lr=0.0001, momentum=0.9), metrics=[\"accuracy\"])  #0.0001\n",
        "\n",
        "\n",
        "aug = ImageDataGenerator(rotation_range=25, width_shift_range=0.1,  #20\n",
        "\theight_shift_range=0.1, shear_range=0.2, zoom_range=0.2,\n",
        "\thorizontal_flip=True, fill_mode=\"nearest\")\n",
        "\n",
        "start = time.time()\n",
        "history = model.fit_generator(aug.flow(X_train, y_train, batch_size=32),validation_data=(X_test, y_test), steps_per_epoch=np.ceil(X_train.shape[0] / 32),\n",
        "                              epochs=80, verbose=1,callbacks = [checkpoint, early])\n",
        "print(\"Time taken to train: \", (time.time() - start)/60)\n",
        "\n",
        "\n",
        "\n",
        "\n",
        "\n",
        "#92.32\n",
        "# x = model.output\n",
        "# x = Flatten()(x)\n",
        "# x = Dense(1024, activation=\"relu\")(x)\n",
        "# x = Dropout(0.30)(x)\n",
        "\n",
        "# x = Dense(512, activation=\"relu\")(x)\n",
        "# x = Dropout(0.25)(x)\n",
        "\n",
        "# x = Dense(256, activation=\"relu\")(x)\n",
        "# x = Dropout(0.25)(x)\n",
        "\n",
        "# x = Dense(128, activation=\"relu\")(x)\n",
        "# x = Dropout(0.25)(x)\n",
        "\n",
        "# predictions = Dense(6, activation=\"softmax\")(x)\n",
        "\n",
        "\n",
        "\n",
        "# model = Model(input = model.input, output = predictions)\n",
        "# model.compile(loss = \"categorical_crossentropy\", optimizer = optimizers.SGD(lr=0.0001, momentum=0.9), metrics=[\"accuracy\"])  #0.0001\n",
        "\n",
        "# aug = ImageDataGenerator(rotation_range=20, width_shift_range=0.1,  #20\n",
        "# \theight_shift_range=0.1, shear_range=0.2, zoom_range=0.2,\n",
        "# \thorizontal_flip=True, fill_mode=\"nearest\")\n",
        "\n",
        "# start = time.time()\n",
        "# history = model.fit_generator(aug.flow(X_train, y_train, batch_size=32),validation_data=(X_test, y_test), steps_per_epoch=np.ceil(X_train.shape[0] / 32),epochs=80, verbose=1)\n",
        "# print(\"Time taken to train: \", (time.time() - start)/60)\n",
        "\n",
        "\n",
        "\n",
        "\n"
      ],
      "execution_count": 0,
      "outputs": []
    },
    {
      "metadata": {
        "id": "-bRWJSfWAmbT",
        "colab_type": "code",
        "colab": {}
      },
      "cell_type": "code",
      "source": [
        ""
      ],
      "execution_count": 0,
      "outputs": []
    },
    {
      "metadata": {
        "id": "qk9NlaIzAnEt",
        "colab_type": "code",
        "outputId": "8afaca14-e388-44e8-fbaf-11134ce61881",
        "colab": {
          "base_uri": "https://localhost:8080/",
          "height": 324
        }
      },
      "cell_type": "code",
      "source": [
        "plt.figure(figsize=(15,10))\n",
        "plt.subplot(2, 2, 1)\n",
        "plt.plot(history.history['loss'])\n",
        "plt.plot(history.history['val_loss'])\n",
        "plt.title('model loss')\n",
        "plt.ylabel('loss')\n",
        "plt.xlabel('epoch')\n",
        "plt.legend(['train', 'validation'], loc='best')\n",
        "\n",
        "plt.subplot(2, 2, 2)\n",
        "plt.plot(history.history['acc'])\n",
        "plt.plot(history.history['val_acc'])\n",
        "plt.title('model accuracy')\n",
        "plt.ylabel('accuracy')\n",
        "plt.xlabel('epoch')\n",
        "plt.legend(['train', 'validation'], loc='best')\n",
        "plt.show()"
      ],
      "execution_count": 0,
      "outputs": [
        {
          "output_type": "display_data",
          "data": {
            "image/png": "[encoded data removed]",
            "text/plain": [
              "<Figure size 1080x720 with 2 Axes>"
            ]
          },
          "metadata": {
            "tags": []
          }
        }
      ]
    },
    {
      "metadata": {
        "id": "QkxdCIrDAnP0",
        "colab_type": "code",
        "colab": {}
      },
      "cell_type": "code",
      "source": [
        ""
      ],
      "execution_count": 0,
      "outputs": []
    },
    {
      "metadata": {
        "id": "A-UZ1LrnQ0vx",
        "colab_type": "code",
        "colab": {}
      },
      "cell_type": "code",
      "source": [
        "# X_train, X_test, y_train, y_test = train_test_split(X, y, test_size=0.10, random_state=2018)\n"
      ],
      "execution_count": 0,
      "outputs": []
    },
    {
      "metadata": {
        "id": "qNyYq2o7QegP",
        "colab_type": "code",
        "outputId": "3e015d3b-f1b0-46ba-fe55-fd033ede6e5f",
        "colab": {
          "base_uri": "https://localhost:8080/",
          "height": 71
        }
      },
      "cell_type": "code",
      "source": [
        "# vgg19 = VGG19(weights='imagenet', include_top=False, input_shape = (150, 150, 3))  #, input_shape = (150, 150, 3)\n",
        "\n",
        "\n",
        "\n",
        "# layer_dict = dict([(layer.name, layer) for layer in vgg19.layers])\n",
        "\n",
        "# print(layer_dict)\n",
        "# x = layer_dict['block2_pool'].output\n",
        "# print(x)\n",
        "\n"
      ],
      "execution_count": 0,
      "outputs": [
        {
          "output_type": "stream",
          "text": [
            "{'input_3': <tensorflow.python.keras.engine.input_layer.InputLayer object at 0x7fc31f5c7c18>, 'block1_conv1': <tensorflow.python.keras.layers.convolutional.Conv2D object at 0x7fc31f5c7cc0>, 'block1_conv2': <tensorflow.python.keras.layers.convolutional.Conv2D object at 0x7fc31f2290b8>, 'block1_pool': <tensorflow.python.keras.layers.pooling.MaxPooling2D object at 0x7fc31f277518>, 'block2_conv1': <tensorflow.python.keras.layers.convolutional.Conv2D object at 0x7fc31f1fcbe0>, 'block2_conv2': <tensorflow.python.keras.layers.convolutional.Conv2D object at 0x7fc31f63a518>, 'block2_pool': <tensorflow.python.keras.layers.pooling.MaxPooling2D object at 0x7fc31f117da0>, 'block3_conv1': <tensorflow.python.keras.layers.convolutional.Conv2D object at 0x7fc31f131fd0>, 'block3_conv2': <tensorflow.python.keras.layers.convolutional.Conv2D object at 0x7fc31f0cdb00>, 'block3_conv3': <tensorflow.python.keras.layers.convolutional.Conv2D object at 0x7fc31f094d68>, 'block3_conv4': <tensorflow.python.keras.layers.convolutional.Conv2D object at 0x7fc31f0b34a8>, 'block3_pool': <tensorflow.python.keras.layers.pooling.MaxPooling2D object at 0x7fc31f04afd0>, 'block4_conv1': <tensorflow.python.keras.layers.convolutional.Conv2D object at 0x7fc31f06a7f0>, 'block4_conv2': <tensorflow.python.keras.layers.convolutional.Conv2D object at 0x7fc31f003c18>, 'block4_conv3': <tensorflow.python.keras.layers.convolutional.Conv2D object at 0x7fc31efcaf28>, 'block4_conv4': <tensorflow.python.keras.layers.convolutional.Conv2D object at 0x7fc31efe8780>, 'block4_pool': <tensorflow.python.keras.layers.pooling.MaxPooling2D object at 0x7fc31ef9d390>, 'block5_conv1': <tensorflow.python.keras.layers.convolutional.Conv2D object at 0x7fc31ef9d358>, 'block5_conv2': <tensorflow.python.keras.layers.convolutional.Conv2D object at 0x7fc31ef52cf8>, 'block5_conv3': <tensorflow.python.keras.layers.convolutional.Conv2D object at 0x7fc31ef71e48>, 'block5_conv4': <tensorflow.python.keras.layers.convolutional.Conv2D object at 0x7fc31ef3aac8>, 'block5_pool': <tensorflow.python.keras.layers.pooling.MaxPooling2D object at 0x7fc31eed7630>}\n",
            "Tensor(\"block2_pool_2/MaxPool:0\", shape=(?, 37, 37, 128), dtype=float32)\n"
          ],
          "name": "stdout"
        }
      ]
    },
    {
      "metadata": {
        "id": "-0crST5oG93J",
        "colab_type": "code",
        "colab": {}
      },
      "cell_type": "code",
      "source": [
        "# x = tf.keras.layers.Conv2D(filters=64, kernel_size=(3, 3), activation='relu')(x)\n",
        "\n",
        "# x = tf.keras.layers.MaxPooling2D(pool_size=(2, 2))(x)\n",
        "\n",
        "# x = Flatten()(x)\n",
        "\n",
        "# x = Dense(512, activation='relu')(x)\n",
        "# x = Dropout(0.20)(x)\n",
        "\n",
        "# x = Dense(256, activation='relu')(x)\n",
        "# x = Dropout(0.20)(x)\n",
        "\n",
        "# x = Dense(128, activation='relu')(x)\n",
        "# x = Dropout(0.20)(x)\n",
        "\n",
        "# x = Dense(64, activation='relu')(x)\n",
        "# x = Dropout(0.20)(x)\n",
        "\n",
        "# x = Dense(6, activation='softmax')(x)\n",
        "\n",
        "\n",
        "# model=Model(inputs=vgg19.input,outputs=x)\n",
        "\n",
        "\n",
        "# for layer in model.layers[:7]:\n",
        "#     layer.trainable = False\n",
        "\n",
        "\n",
        "# # vgg_model = vgg16.VGG16(weights='imagenet', include_top=False)\n",
        "# # x=vgg_model.output\n",
        "# # x=GlobalAveragePooling2D()(x)\n",
        "# # x = Flatten()(x)\n",
        "# # x=Dense(1024,activation='relu')(x)\n",
        "# # x=Dropout(0.20)(x)\n",
        "\n",
        "# # x=Dense(512,activation='relu')(x)\n",
        "# # x=Dropout(0.25)(x)\n",
        "\n",
        "# # x=Dense(256,activation='relu')(x)\n",
        "# # x=Dropout(0.25)(x)\n",
        "\n",
        "# # x=Dense(128,activation='relu')(x)\n",
        "# # x=Dropout(0.25)(x)\n",
        "\n",
        "# # x=Dense(64,activation='relu')(x)\n",
        "# # x=Dropout(0.20)(x)\n",
        "\n",
        "# # preds=Dense(6,activation='softmax')(x)\n",
        "\n",
        "# # model=Model(inputs=vgg_model.input,outputs=preds)"
      ],
      "execution_count": 0,
      "outputs": []
    },
    {
      "metadata": {
        "id": "7BnRGssjQdtw",
        "colab_type": "code",
        "colab": {}
      },
      "cell_type": "code",
      "source": [
        ""
      ],
      "execution_count": 0,
      "outputs": []
    },
    {
      "metadata": {
        "id": "zvCb7H9Bcf3w",
        "colab_type": "code",
        "colab": {}
      },
      "cell_type": "code",
      "source": [
        "# # vgg_model = vgg16.VGG16(weights='imagenet')\n",
        "# adam = tf.keras.optimizers.Adam(lr=0.1, beta_1=0.9, beta_2=0.999, epsilon=None, decay=0.0, amsgrad=False)\n",
        "# model.compile(optimizer=adam,loss='categorical_crossentropy',metrics=['accuracy'])\n"
      ],
      "execution_count": 0,
      "outputs": []
    },
    {
      "metadata": {
        "id": "YsqfOJfVJubH",
        "colab_type": "code",
        "colab": {}
      },
      "cell_type": "code",
      "source": [
        "# aug = ImageDataGenerator(rotation_range=20, width_shift_range=0.1,\n",
        "# \theight_shift_range=0.1, shear_range=0.2, zoom_range=0.2,\n",
        "# \thorizontal_flip=True, fill_mode=\"nearest\")"
      ],
      "execution_count": 0,
      "outputs": []
    },
    {
      "metadata": {
        "id": "VoWoNPC8J0wB",
        "colab_type": "code",
        "colab": {}
      },
      "cell_type": "code",
      "source": [
        "# start = time.time()\n",
        "# history = model.fit_generator(aug.flow(X_train, y_train, batch_size=32),validation_data=(X_test, y_test), steps_per_epoch=np.ceil(X_train.shape[0] / 32),epochs=3, verbose=1)\n",
        "# print(\"Time taken to train: \", (time.time() - start)/60)"
      ],
      "execution_count": 0,
      "outputs": []
    },
    {
      "metadata": {
        "id": "MueDIMhicf09",
        "colab_type": "code",
        "outputId": "f01b4c57-8326-4c8a-b335-a33d693b583c",
        "colab": {
          "base_uri": "https://localhost:8080/",
          "height": 51
        }
      },
      "cell_type": "code",
      "source": [
        "# from keras.preprocessing.image import load_img\n",
        "# from keras.preprocessing.image import img_to_array\n",
        "# from keras.applications.imagenet_utils import decode_predictions\n",
        "\n",
        "# filename = '4.jpg'\n",
        "# original = load_img(filename, target_size=(224, 224))\n",
        "# numpy_image = img_to_array(original)\n",
        "# print('Before reshape',numpy_image.shape)\n",
        "# numpy_image = numpy_image.reshape(1, 224, 224, 3)\n",
        "# print('After reshape',numpy_image.shape)\n",
        "\n",
        "\n",
        "\n",
        "# predictions = vgg_model.predict(numpy_image)"
      ],
      "execution_count": 0,
      "outputs": [
        {
          "output_type": "stream",
          "text": [
            "Before reshape (224, 224, 3)\n",
            "After reshape (1, 224, 224, 3)\n"
          ],
          "name": "stdout"
        }
      ]
    },
    {
      "metadata": {
        "id": "olZvdFoycfy1",
        "colab_type": "code",
        "colab": {}
      },
      "cell_type": "code",
      "source": [
        "# print(decode_predictions(predictions))"
      ],
      "execution_count": 0,
      "outputs": []
    },
    {
      "metadata": {
        "id": "PWzUf3iBcfwX",
        "colab_type": "code",
        "colab": {}
      },
      "cell_type": "code",
      "source": [
        ""
      ],
      "execution_count": 0,
      "outputs": []
    },
    {
      "metadata": {
        "id": "OteTpgzecfeX",
        "colab_type": "code",
        "colab": {}
      },
      "cell_type": "code",
      "source": [
        ""
      ],
      "execution_count": 0,
      "outputs": []
    },
    {
      "metadata": {
        "id": "R3nhLzVicfbz",
        "colab_type": "code",
        "colab": {}
      },
      "cell_type": "code",
      "source": [
        ""
      ],
      "execution_count": 0,
      "outputs": []
    },
    {
      "metadata": {
        "id": "2DUHt5vJcfW0",
        "colab_type": "code",
        "colab": {}
      },
      "cell_type": "code",
      "source": [
        ""
      ],
      "execution_count": 0,
      "outputs": []
    }
  ]
}